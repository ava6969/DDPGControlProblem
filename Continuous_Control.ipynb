{
 "cells": [
  {
   "cell_type": "markdown",
   "metadata": {},
   "source": [
    "# Continuous Control\n",
    "\n",
    "---\n",
    "\n",
    "You are welcome to use this coding environment to train your agent for the project.  Follow the instructions below to get started!\n",
    "\n",
    "### 1. Start the Environment\n",
    "\n",
    "Run the next code cell to install a few packages.  This line will take a few minutes to run!"
   ]
  },
  {
   "cell_type": "code",
   "execution_count": null,
   "metadata": {},
   "outputs": [],
   "source": [
    "!pip -q install ./python"
   ]
  },
  {
   "cell_type": "markdown",
   "metadata": {},
   "source": [
    "The environments corresponding to both versions of the environment are already saved in the Workspace and can be accessed at the file paths provided below.  \n",
    "\n",
    "Please select one of the two options below for loading the environment."
   ]
  },
  {
   "cell_type": "code",
   "execution_count": 1,
   "metadata": {},
   "outputs": [
    {
     "name": "stderr",
     "output_type": "stream",
     "text": [
      "INFO:unityagents:\n",
      "'Academy' started successfully!\n",
      "Unity Academy name: Academy\n",
      "        Number of Brains: 1\n",
      "        Number of External Brains : 1\n",
      "        Lesson number : 0\n",
      "        Reset Parameters :\n",
      "\t\tgoal_speed -> 1.0\n",
      "\t\tgoal_size -> 5.0\n",
      "Unity brain name: ReacherBrain\n",
      "        Number of Visual Observations (per agent): 0\n",
      "        Vector Observation space type: continuous\n",
      "        Vector Observation space size (per agent): 33\n",
      "        Number of stacked Vector Observation: 1\n",
      "        Vector Action space type: continuous\n",
      "        Vector Action space size (per agent): 4\n",
      "        Vector Action descriptions: , , , \n"
     ]
    }
   ],
   "source": [
    "from unityagents import UnityEnvironment\n",
    "import numpy as np\n",
    "seed=4\n",
    "\n",
    "# select this option to load version 1 (with a single agent) of the environment\n",
    "env = UnityEnvironment(file_name='Reacher', seed=seed, worker_id=1)\n",
    "\n",
    "# select this option to load version 2 (with 20 agents) of the environment\n",
    "# env = UnityEnvironment(file_name='/data/Reacher_Linux_NoVis/Reacher.x86_64')"
   ]
  },
  {
   "cell_type": "markdown",
   "metadata": {},
   "source": [
    "Environments contain **_brains_** which are responsible for deciding the actions of their associated agents. Here we check for the first brain available, and set it as the default brain we will be controlling from Python."
   ]
  },
  {
   "cell_type": "code",
   "execution_count": 2,
   "metadata": {},
   "outputs": [],
   "source": [
    "# get the default brain\n",
    "brain_name = env.brain_names[0]\n",
    "brain = env.brains[brain_name]"
   ]
  },
  {
   "cell_type": "markdown",
   "metadata": {},
   "source": [
    "### 2. Examine the State and Action Spaces\n",
    "\n",
    "Run the code cell below to print some information about the environment."
   ]
  },
  {
   "cell_type": "code",
   "execution_count": 3,
   "metadata": {},
   "outputs": [
    {
     "name": "stdout",
     "output_type": "stream",
     "text": [
      "Number of agents: 1\n",
      "Size of each action: 4\n",
      "There are 1 agents. Each observes a state with length: 33\n",
      "The state for the first agent looks like: [ 0.00000000e+00 -4.00000000e+00  0.00000000e+00  1.00000000e+00\n",
      " -0.00000000e+00 -0.00000000e+00 -4.37113883e-08  0.00000000e+00\n",
      "  0.00000000e+00  0.00000000e+00  0.00000000e+00  0.00000000e+00\n",
      "  0.00000000e+00  0.00000000e+00 -1.00000000e+01  0.00000000e+00\n",
      "  1.00000000e+00 -0.00000000e+00 -0.00000000e+00 -4.37113883e-08\n",
      "  0.00000000e+00  0.00000000e+00  0.00000000e+00  0.00000000e+00\n",
      "  0.00000000e+00  0.00000000e+00  0.00000000e+00 -1.00000000e+00\n",
      " -8.00000000e+00  0.00000000e+00  1.00000000e+00  0.00000000e+00\n",
      " -6.97666168e-01]\n"
     ]
    }
   ],
   "source": [
    "# reset the environment\n",
    "env_info = env.reset(train_mode=True)[brain_name]\n",
    "\n",
    "# number of agents\n",
    "num_agents = len(env_info.agents)\n",
    "print('Number of agents:', num_agents)\n",
    "\n",
    "# size of each action\n",
    "action_size = brain.vector_action_space_size\n",
    "print('Size of each action:', action_size)\n",
    "\n",
    "# examine the state space \n",
    "states = env_info.vector_observations\n",
    "state_size = states.shape[1]\n",
    "print('There are {} agents. Each observes a state with length: {}'.format(states.shape[0], state_size))\n",
    "print('The state for the first agent looks like:', states[0])"
   ]
  },
  {
   "cell_type": "markdown",
   "metadata": {},
   "source": [
    "### 3. Take Random Actions in the Environment\n",
    "\n",
    "In the next code cell, you will learn how to use the Python API to control the agent and receive feedback from the environment.\n",
    "\n",
    "Note that **in this coding environment, you will not be able to watch the agents while they are training**, and you should set `train_mode=True` to restart the environment."
   ]
  },
  {
   "cell_type": "code",
   "execution_count": 4,
   "metadata": {},
   "outputs": [
    {
     "name": "stdout",
     "output_type": "stream",
     "text": [
      "Total score (averaged over agents) this episode: 0.0\n"
     ]
    }
   ],
   "source": [
    "env_info = env.reset(train_mode=True)[brain_name]      # reset the environment    \n",
    "states = env_info.vector_observations                  # get the current state (for each agent)\n",
    "scores = np.zeros(num_agents)                          # initialize the score (for each agent)\n",
    "while True:\n",
    "    actions = np.random.randn(num_agents, action_size) # select an action (for each agent)\n",
    "    actions = np.clip(actions, -1, 1)                  # all actions between -1 and 1\n",
    "    env_info = env.step(actions)[brain_name]           # send all actions to tne environment\n",
    "    next_states = env_info.vector_observations         # get next state (for each agent)\n",
    "    rewards = env_info.rewards                         # get reward (for each agent)\n",
    "    dones = env_info.local_done                        # see if episode finished\n",
    "    scores += env_info.rewards                         # update the score (for each agent)\n",
    "    states = next_states                               # roll over states to next time step\n",
    "    if np.any(dones):                                  # exit loop if episode finished\n",
    "        break\n",
    "print('Total score (averaged over agents) this episode: {}'.format(np.mean(scores)))"
   ]
  },
  {
   "cell_type": "code",
   "execution_count": 5,
   "metadata": {},
   "outputs": [
    {
     "data": {
      "text/plain": [
       "<All keys matched successfully>"
      ]
     },
     "execution_count": 5,
     "metadata": {},
     "output_type": "execute_result"
    }
   ],
   "source": [
    "from ddpg_agent import Agent\n",
    "from collections import deque\n",
    "import torch\n",
    "\n",
    "agent = Agent(state_size, action_size, seed)\n",
    "agent.actor_local.load_state_dict(torch.load('actor.pth'))\n",
    "agent.critic_local.load_state_dict(torch.load('critic.pth'))\n",
    "\n"
   ]
  },
  {
   "cell_type": "markdown",
   "metadata": {},
   "source": [
    "# Training"
   ]
  },
  {
   "cell_type": "markdown",
   "metadata": {},
   "source": [
    "When finished, you can close the environment."
   ]
  },
  {
   "cell_type": "code",
   "execution_count": 6,
   "metadata": {},
   "outputs": [
    {
     "name": "stdout",
     "output_type": "stream",
     "text": [
      "Episode 10\tTotal Average Score: 2.92\n",
      "Episode 20\tTotal Average Score: 2.21\n",
      "Episode 30\tTotal Average Score: 1.81\n",
      "Episode 40\tTotal Average Score: 1.70\n",
      "Episode 50\tTotal Average Score: 1.79\n",
      "Episode 60\tTotal Average Score: 2.06\n",
      "Episode 70\tTotal Average Score: 2.32\n",
      "Episode 80\tTotal Average Score: 2.56\n",
      "Episode 90\tTotal Average Score: 2.91\n",
      "Episode 100\tTotal Average Score: 3.17\n",
      "Episode 110\tTotal Average Score: 3.57\n",
      "Episode 120\tTotal Average Score: 3.83\n",
      "Episode 130\tTotal Average Score: 4.23\n",
      "Episode 140\tTotal Average Score: 4.62\n",
      "Episode 150\tTotal Average Score: 4.80\n",
      "Episode 160\tTotal Average Score: 5.00\n",
      "Episode 170\tTotal Average Score: 5.24\n",
      "Episode 180\tTotal Average Score: 5.48\n",
      "Episode 190\tTotal Average Score: 5.66\n",
      "Episode 200\tTotal Average Score: 5.75\n",
      "Episode 210\tTotal Average Score: 5.82\n",
      "Episode 220\tTotal Average Score: 6.04\n",
      "Episode 230\tTotal Average Score: 6.22\n",
      "Episode 240\tTotal Average Score: 6.52\n",
      "Episode 250\tTotal Average Score: 6.73\n",
      "Episode 260\tTotal Average Score: 6.99\n",
      "Episode 270\tTotal Average Score: 7.17\n",
      "Episode 280\tTotal Average Score: 7.24\n",
      "Episode 290\tTotal Average Score: 7.24\n",
      "Episode 300\tTotal Average Score: 7.20\n",
      "Episode 310\tTotal Average Score: 7.18\n",
      "Episode 320\tTotal Average Score: 7.27\n",
      "Episode 330\tTotal Average Score: 7.38\n",
      "Episode 340\tTotal Average Score: 7.37\n",
      "Episode 350\tTotal Average Score: 8.11\n",
      "Episode 360\tTotal Average Score: 8.34\n",
      "Episode 370\tTotal Average Score: 8.56\n",
      "Episode 380\tTotal Average Score: 8.66\n",
      "Episode 390\tTotal Average Score: 8.79\n",
      "Episode 400\tTotal Average Score: 9.00\n",
      "Episode 410\tTotal Average Score: 8.97\n",
      "Episode 420\tTotal Average Score: 8.89\n",
      "Episode 430\tTotal Average Score: 8.77\n",
      "Episode 440\tTotal Average Score: 8.73\n",
      "Episode 450\tTotal Average Score: 8.25\n",
      "Episode 460\tTotal Average Score: 8.04\n",
      "Episode 470\tTotal Average Score: 7.85\n",
      "Episode 480\tTotal Average Score: 7.85\n",
      "Episode 490\tTotal Average Score: 8.05\n",
      "Episode 500\tTotal Average Score: 8.15\n",
      "Episode 510\tTotal Average Score: 8.33\n",
      "Episode 520\tTotal Average Score: 8.58\n",
      "Episode 530\tTotal Average Score: 8.74\n",
      "Episode 540\tTotal Average Score: 8.91\n",
      "Episode 550\tTotal Average Score: 9.00\n",
      "Episode 560\tTotal Average Score: 9.06\n",
      "Episode 570\tTotal Average Score: 9.16\n",
      "Episode 580\tTotal Average Score: 9.29\n",
      "Episode 590\tTotal Average Score: 9.21\n",
      "Episode 600\tTotal Average Score: 9.25\n",
      "Episode 610\tTotal Average Score: 9.41\n",
      "Episode 620\tTotal Average Score: 9.52\n",
      "Episode 630\tTotal Average Score: 9.74\n",
      "Episode 640\tTotal Average Score: 10.07\n",
      "Episode 650\tTotal Average Score: 10.27\n",
      "Episode 660\tTotal Average Score: 10.36\n",
      "Episode 670\tTotal Average Score: 10.54\n",
      "Episode 680\tTotal Average Score: 10.57\n",
      "Episode 690\tTotal Average Score: 10.52\n",
      "Episode 700\tTotal Average Score: 10.69\n",
      "Episode 710\tTotal Average Score: 10.71\n",
      "Episode 720\tTotal Average Score: 10.80\n",
      "Episode 730\tTotal Average Score: 10.78\n",
      "Episode 740\tTotal Average Score: 10.56\n",
      "Episode 750\tTotal Average Score: 10.37\n",
      "Episode 760\tTotal Average Score: 10.38\n",
      "Episode 770\tTotal Average Score: 10.25\n",
      "Episode 780\tTotal Average Score: 10.38\n",
      "Episode 790\tTotal Average Score: 10.31\n",
      "Episode 800\tTotal Average Score: 10.15\n",
      "Episode 810\tTotal Average Score: 10.13\n",
      "Episode 820\tTotal Average Score: 10.17\n",
      "Episode 830\tTotal Average Score: 10.00\n",
      "Episode 840\tTotal Average Score: 9.93\n",
      "Episode 850\tTotal Average Score: 9.95\n",
      "Episode 860\tTotal Average Score: 10.06\n",
      "Episode 870\tTotal Average Score: 9.94\n",
      "Episode 880\tTotal Average Score: 10.22\n",
      "Episode 890\tTotal Average Score: 10.32\n",
      "Episode 900\tTotal Average Score: 10.40\n",
      "Episode 910\tTotal Average Score: 10.29\n",
      "Episode 920\tTotal Average Score: 10.11\n",
      "Episode 930\tTotal Average Score: 10.19\n",
      "Episode 940\tTotal Average Score: 10.30\n",
      "Episode 950\tTotal Average Score: 10.52\n",
      "Episode 960\tTotal Average Score: 10.34\n",
      "Episode 970\tTotal Average Score: 10.60\n",
      "Episode 980\tTotal Average Score: 10.15\n",
      "Episode 990\tTotal Average Score: 10.11\n",
      "Episode 1000\tTotal Average Score: 9.96\n",
      "Episode 1010\tTotal Average Score: 9.91\n",
      "Episode 1020\tTotal Average Score: 9.82\n",
      "Episode 1030\tTotal Average Score: 9.87\n",
      "Episode 1040\tTotal Average Score: 9.82\n",
      "Episode 1050\tTotal Average Score: 9.68\n",
      "Episode 1060\tTotal Average Score: 9.69\n",
      "Episode 1070\tTotal Average Score: 9.60\n",
      "Episode 1080\tTotal Average Score: 9.87\n",
      "Episode 1090\tTotal Average Score: 9.95\n",
      "Episode 1100\tTotal Average Score: 10.14\n",
      "Episode 1110\tTotal Average Score: 10.37\n",
      "Episode 1120\tTotal Average Score: 10.51\n",
      "Episode 1130\tTotal Average Score: 10.64\n",
      "Episode 1140\tTotal Average Score: 10.81\n",
      "Episode 1150\tTotal Average Score: 10.92\n",
      "Episode 1160\tTotal Average Score: 11.23\n",
      "Episode 1170\tTotal Average Score: 11.48\n",
      "Episode 1180\tTotal Average Score: 11.47\n",
      "Episode 1190\tTotal Average Score: 11.68\n",
      "Episode 1200\tTotal Average Score: 11.84\n",
      "Episode 1210\tTotal Average Score: 11.92\n",
      "Episode 1220\tTotal Average Score: 12.21\n",
      "Episode 1230\tTotal Average Score: 12.25\n",
      "Episode 1240\tTotal Average Score: 12.24\n",
      "Episode 1250\tTotal Average Score: 12.18\n",
      "Episode 1260\tTotal Average Score: 12.19\n",
      "Episode 1270\tTotal Average Score: 12.18\n",
      "Episode 1280\tTotal Average Score: 12.49\n",
      "Episode 1290\tTotal Average Score: 12.52\n",
      "Episode 1300\tTotal Average Score: 12.59\n",
      "Episode 1310\tTotal Average Score: 12.76\n",
      "Episode 1320\tTotal Average Score: 12.78\n",
      "Episode 1330\tTotal Average Score: 12.87\n",
      "Episode 1340\tTotal Average Score: 13.08\n",
      "Episode 1350\tTotal Average Score: 13.34\n",
      "Episode 1360\tTotal Average Score: 13.71\n",
      "Episode 1370\tTotal Average Score: 13.87\n",
      "Episode 1380\tTotal Average Score: 13.78\n",
      "Episode 1390\tTotal Average Score: 13.85\n",
      "Episode 1400\tTotal Average Score: 13.76\n",
      "Episode 1410\tTotal Average Score: 13.72\n",
      "Episode 1420\tTotal Average Score: 14.10\n",
      "Episode 1430\tTotal Average Score: 14.34\n",
      "Episode 1440\tTotal Average Score: 14.60\n",
      "Episode 1450\tTotal Average Score: 14.93\n",
      "Episode 1460\tTotal Average Score: 14.99\n",
      "Episode 1470\tTotal Average Score: 15.25\n",
      "Episode 1480\tTotal Average Score: 15.33\n",
      "Episode 1490\tTotal Average Score: 15.53\n",
      "Episode 1500\tTotal Average Score: 15.90\n",
      "Episode 1510\tTotal Average Score: 16.21\n",
      "Episode 1520\tTotal Average Score: 16.27\n",
      "Episode 1530\tTotal Average Score: 16.44\n",
      "Episode 1540\tTotal Average Score: 16.45\n",
      "Episode 1550\tTotal Average Score: 16.47\n",
      "Episode 1560\tTotal Average Score: 16.36\n",
      "Episode 1570\tTotal Average Score: 16.29\n",
      "Episode 1580\tTotal Average Score: 16.59\n",
      "Episode 1590\tTotal Average Score: 16.60\n",
      "Episode 1600\tTotal Average Score: 16.69\n",
      "Episode 1610\tTotal Average Score: 16.70\n",
      "Episode 1620\tTotal Average Score: 16.75\n",
      "Episode 1630\tTotal Average Score: 16.88\n",
      "Episode 1640\tTotal Average Score: 16.87\n",
      "Episode 1650\tTotal Average Score: 17.10\n",
      "Episode 1660\tTotal Average Score: 17.33\n",
      "Episode 1670\tTotal Average Score: 17.62\n",
      "Episode 1680\tTotal Average Score: 17.64\n",
      "Episode 1690\tTotal Average Score: 17.81\n",
      "Episode 1700\tTotal Average Score: 18.03\n",
      "Episode 1710\tTotal Average Score: 18.37\n",
      "Episode 1720\tTotal Average Score: 18.64\n",
      "Episode 1730\tTotal Average Score: 18.84\n",
      "Episode 1740\tTotal Average Score: 19.31\n",
      "Episode 1750\tTotal Average Score: 19.25\n",
      "Episode 1760\tTotal Average Score: 19.66\n",
      "Episode 1770\tTotal Average Score: 19.60\n",
      "Episode 1780\tTotal Average Score: 19.66\n",
      "Episode 1790\tTotal Average Score: 19.83\n",
      "Episode 1800\tTotal Average Score: 19.72\n",
      "Episode 1810\tTotal Average Score: 19.47\n",
      "Episode 1820\tTotal Average Score: 19.81\n",
      "Episode 1830\tTotal Average Score: 20.30\n",
      "Episode 1840\tTotal Average Score: 20.32\n",
      "Episode 1850\tTotal Average Score: 20.60\n",
      "Episode 1860\tTotal Average Score: 20.82\n",
      "Episode 1870\tTotal Average Score: 21.47\n",
      "Episode 1880\tTotal Average Score: 22.07\n",
      "Episode 1890\tTotal Average Score: 22.73\n",
      "Episode 1900\tTotal Average Score: 23.51\n",
      "Episode 1910\tTotal Average Score: 24.23\n",
      "Episode 1920\tTotal Average Score: 24.47\n",
      "Episode 1930\tTotal Average Score: 24.72\n",
      "Episode 1940\tTotal Average Score: 25.25\n",
      "Episode 1950\tTotal Average Score: 25.94\n",
      "Episode 1960\tTotal Average Score: 26.31\n",
      "Episode 1970\tTotal Average Score: 26.44\n",
      "Episode 1980\tTotal Average Score: 26.76\n",
      "Episode 1990\tTotal Average Score: 27.00\n",
      "Episode 2000\tTotal Average Score: 27.29\n",
      "Episode 2010\tTotal Average Score: 27.60\n",
      "Episode 2020\tTotal Average Score: 27.95\n",
      "Episode 2030\tTotal Average Score: 28.04\n",
      "Episode 2040\tTotal Average Score: 28.06\n",
      "Episode 2050\tTotal Average Score: 28.15\n",
      "Episode 2060\tTotal Average Score: 28.25\n",
      "Episode 2070\tTotal Average Score: 28.61\n",
      "Episode 2080\tTotal Average Score: 29.02\n",
      "Episode 2090\tTotal Average Score: 29.20\n",
      "Episode 2100\tTotal Average Score: 29.27\n"
     ]
    },
    {
     "name": "stdout",
     "output_type": "stream",
     "text": [
      "Episode 2110\tTotal Average Score: 29.45\n",
      "Episode 2120\tTotal Average Score: 29.60\n",
      "Episode 2130\tTotal Average Score: 29.68\n",
      "Episode 2140\tTotal Average Score: 29.94\n",
      "\n",
      "Environment solved in 2048 episodes!\tAverage Score: 30.01\n"
     ]
    }
   ],
   "source": [
    "\n",
    "print_every = 10\n",
    "save_every = 100\n",
    "\n",
    "\n",
    "def train(n_episodes=10000, max_t=1000, eps_start=1.0, eps_end=0.1, eps_decay=0.0001):\n",
    "    \"\"\"Deep Q-Learning.\n",
    "    \n",
    "    Params\n",
    "    ======\n",
    "        n_episodes (int): maximum number of training episodes\n",
    "        max_t (int): maximum number of timesteps per episode\n",
    "        eps_start (float): starting value of epsilon, for epsilon-greedy action selection\n",
    "        eps_end (float): minimum value of epsilon\n",
    "        eps_decay (float): multiplicative factor (per episode) for decreasing epsilon\n",
    "    \"\"\"\n",
    "    total_scores = []      # list containing scores from each episode\n",
    "    scores_window = deque(maxlen=100)  # last 100 scores\n",
    "\n",
    "    eps = eps_start                    # initialize epsilon\n",
    "    for i_episode in range(1, n_episodes+1):\n",
    "        env_info = env.reset(train_mode=True)[brain_name] # reset the environment\n",
    "        state = env_info.vector_observations          # get the current state\n",
    "        agent.reset()\n",
    "        scores = np.zeros(num_agents)\n",
    "        for t in range(max_t):\n",
    "            action = agent.act(eps, state)\n",
    "            env_info = env.step(action)[brain_name]        # send the action to the environment\n",
    "            next_state = env_info.vector_observations\n",
    "            reward = env_info.rewards\n",
    "            done = env_info.local_done\n",
    "            scores += reward\n",
    "\n",
    "            agent.step(t, state, action, reward, next_state, done)\n",
    "            state = next_state\n",
    "\n",
    "            if np.any(done):\n",
    "                break\n",
    "        scores_window.append(scores)\n",
    "        total_scores.append(scores)\n",
    "        total_average_score = np.mean(scores_window)\n",
    "        eps = max(eps_end, eps-eps_decay) # decrease epsilon\n",
    "        if i_episode % print_every == 0:\n",
    "            print('\\rEpisode {}\\tTotal Average Score: {:.2f}'.\n",
    "                  format(i_episode, total_average_score))\n",
    "\n",
    "        if i_episode % save_every == 0:\n",
    "            torch.save(agent.actor_local.state_dict(), 'actor.pth')\n",
    "            torch.save(agent.critic_local.state_dict(), 'critic.pth')\n",
    "        if np.mean(scores_window) >= 30.0:\n",
    "            print('\\nEnvironment solved in {:d} episodes!\\tAverage Score: {:.2f}'\n",
    "                  .format(i_episode-100, total_average_score))\n",
    "            torch.save(agent.actor_local.state_dict(), 'actor.pth')\n",
    "            torch.save(agent.critic_local.state_dict(), 'critic.pth')\n",
    "            break\n",
    "\n",
    "    return total_scores\n",
    "\n",
    "scores = train()"
   ]
  },
  {
   "cell_type": "code",
   "execution_count": 9,
   "metadata": {},
   "outputs": [
    {
     "data": {
      "image/png": "[encoded data removed]",
      "text/plain": [
       "<Figure size 432x288 with 1 Axes>"
      ]
     },
     "metadata": {
      "needs_background": "light"
     },
     "output_type": "display_data"
    }
   ],
   "source": [
    "import matplotlib.pyplot as plt\n",
    "# plot the scores\n",
    "fig = plt.figure()\n",
    "ax = fig.add_subplot(111)\n",
    "plt.plot(np.arange(len(scores)), scores)\n",
    "plt.ylabel('Score')\n",
    "\n",
    "plt.xlabel('Episode #')\n",
    "plt.show()\n"
   ]
  },
  {
   "cell_type": "code",
   "execution_count": 8,
   "metadata": {},
   "outputs": [],
   "source": [
    "env.close()"
   ]
  },
  {
   "cell_type": "markdown",
   "metadata": {},
   "source": [
    "### 4. It's Your Turn!\n",
    "\n",
    "Now it's your turn to train your own agent to solve the environment!  A few **important notes**:\n",
    "- When training the environment, set `train_mode=True`, so that the line for resetting the environment looks like the following:\n",
    "```python\n",
    "env_info = env.reset(train_mode=True)[brain_name]\n",
    "```\n",
    "- To structure your work, you're welcome to work directly in this Jupyter notebook, or you might like to start over with a new file!  You can see the list of files in the workspace by clicking on **_Jupyter_** in the top left corner of the notebook.\n",
    "- In this coding environment, you will not be able to watch the agents while they are training.  However, **_after training the agents_**, you can download the saved model weights to watch the agents on your own machine! "
   ]
  },
  {
   "cell_type": "code",
   "execution_count": null,
   "metadata": {},
   "outputs": [],
   "source": []
  },
  {
   "cell_type": "code",
   "execution_count": null,
   "metadata": {},
   "outputs": [],
   "source": []
  },
  {
   "cell_type": "code",
   "execution_count": null,
   "metadata": {},
   "outputs": [],
   "source": []
  }
 ],
 "metadata": {
  "kernelspec": {
   "display_name": "drlnd",
   "language": "python",
   "name": "drlnd"
  },
  "language_info": {
   "codemirror_mode": {
    "name": "ipython",
    "version": 3
   },
   "file_extension": ".py",
   "mimetype": "text/x-python",
   "name": "python",
   "nbconvert_exporter": "python",
   "pygments_lexer": "ipython3",
   "version": "3.6.10"
  }
 },
 "nbformat": 4,
 "nbformat_minor": 2
}
